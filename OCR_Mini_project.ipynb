{
  "nbformat": 4,
  "nbformat_minor": 0,
  "metadata": {
    "colab": {
      "provenance": [],
      "authorship_tag": "ABX9TyP2t1qwGqxR1sQbI77209lX",
      "include_colab_link": true
    },
    "kernelspec": {
      "name": "python3",
      "display_name": "Python 3"
    },
    "language_info": {
      "name": "python"
    }
  },
  "cells": [
    {
      "cell_type": "markdown",
      "metadata": {
        "id": "view-in-github",
        "colab_type": "text"
      },
      "source": [
        "<a href=\"https://colab.research.google.com/github/PhoenixAlpha23/Pytesseract-Streamlit-App/blob/main/OCR_Mini_project.ipynb\" target=\"_parent\"><img src=\"https://colab.research.google.com/assets/colab-badge.svg\" alt=\"Open In Colab\"/></a>"
      ]
    },
    {
      "cell_type": "markdown",
      "source": [
        "Install Google's Tesseract engine"
      ],
      "metadata": {
        "id": "DHNJ4omuq9kW"
      }
    },
    {
      "cell_type": "code",
      "source": [
        "!sudo apt-get install tesseract-ocr"
      ],
      "metadata": {
        "id": "AVk4hj-fplU6",
        "colab": {
          "base_uri": "https://localhost:8080/"
        },
        "collapsed": true,
        "outputId": "28b4abd1-7ec6-4c5f-a21c-cfbf6e4196bc"
      },
      "execution_count": null,
      "outputs": [
        {
          "output_type": "stream",
          "name": "stdout",
          "text": [
            "Reading package lists... Done\n",
            "Building dependency tree... Done\n",
            "Reading state information... Done\n",
            "tesseract-ocr is already the newest version (4.1.1-2.1build1).\n",
            "0 upgraded, 0 newly installed, 0 to remove and 45 not upgraded.\n"
          ]
        }
      ]
    },
    {
      "cell_type": "markdown",
      "source": [
        "install the python wrapper Pytesseract for this project.\n",
        "*  Numpy- array operations\n",
        "*  Pdf2image to handle PDF as input.\n",
        "* Streamlit library- to create a temporary website to use this project.\n",
        "*  pyMuPDF->fitz for image processing"
      ],
      "metadata": {
        "id": "kpvA4YXvrDko"
      }
    },
    {
      "cell_type": "code",
      "source": [
        "#install necessary packages , opencv- image preprocessing, pytesseract pillow- OCR components,streamlit for demonstration purposes,\n",
        "!pip install streamlit opencv-python-headless pytesseract Pillow numpy pdf2image pyMuPDF fitz"
      ],
      "metadata": {
        "id": "gRQnwsS_pVVy",
        "colab": {
          "base_uri": "https://localhost:8080/"
        },
        "collapsed": true,
        "outputId": "1b513c29-54df-431e-f75e-3426921dfd8d"
      },
      "execution_count": null,
      "outputs": [
        {
          "output_type": "stream",
          "name": "stdout",
          "text": [
            "Requirement already satisfied: streamlit in /usr/local/lib/python3.10/dist-packages (1.37.1)\n",
            "Requirement already satisfied: opencv-python-headless in /usr/local/lib/python3.10/dist-packages (4.10.0.84)\n",
            "Requirement already satisfied: pytesseract in /usr/local/lib/python3.10/dist-packages (0.3.13)\n",
            "Requirement already satisfied: Pillow in /usr/local/lib/python3.10/dist-packages (9.4.0)\n",
            "Requirement already satisfied: numpy in /usr/local/lib/python3.10/dist-packages (1.26.4)\n",
            "Requirement already satisfied: pdf2image in /usr/local/lib/python3.10/dist-packages (1.17.0)\n",
            "Collecting pyMuPDF\n",
            "  Downloading PyMuPDF-1.24.9-cp310-none-manylinux2014_x86_64.whl.metadata (3.4 kB)\n",
            "Requirement already satisfied: fitz in /usr/local/lib/python3.10/dist-packages (0.0.1.dev2)\n",
            "Requirement already satisfied: altair<6,>=4.0 in /usr/local/lib/python3.10/dist-packages (from streamlit) (4.2.2)\n",
            "Requirement already satisfied: blinker<2,>=1.0.0 in /usr/lib/python3/dist-packages (from streamlit) (1.4)\n",
            "Requirement already satisfied: cachetools<6,>=4.0 in /usr/local/lib/python3.10/dist-packages (from streamlit) (5.5.0)\n",
            "Requirement already satisfied: click<9,>=7.0 in /usr/local/lib/python3.10/dist-packages (from streamlit) (8.1.7)\n",
            "Requirement already satisfied: packaging<25,>=20 in /usr/local/lib/python3.10/dist-packages (from streamlit) (24.1)\n",
            "Requirement already satisfied: pandas<3,>=1.3.0 in /usr/local/lib/python3.10/dist-packages (from streamlit) (2.1.4)\n",
            "Requirement already satisfied: protobuf<6,>=3.20 in /usr/local/lib/python3.10/dist-packages (from streamlit) (3.20.3)\n",
            "Requirement already satisfied: pyarrow>=7.0 in /usr/local/lib/python3.10/dist-packages (from streamlit) (14.0.2)\n",
            "Requirement already satisfied: requests<3,>=2.27 in /usr/local/lib/python3.10/dist-packages (from streamlit) (2.32.3)\n",
            "Requirement already satisfied: rich<14,>=10.14.0 in /usr/local/lib/python3.10/dist-packages (from streamlit) (13.7.1)\n",
            "Requirement already satisfied: tenacity<9,>=8.1.0 in /usr/local/lib/python3.10/dist-packages (from streamlit) (8.5.0)\n",
            "Requirement already satisfied: toml<2,>=0.10.1 in /usr/local/lib/python3.10/dist-packages (from streamlit) (0.10.2)\n",
            "Requirement already satisfied: typing-extensions<5,>=4.3.0 in /usr/local/lib/python3.10/dist-packages (from streamlit) (4.12.2)\n",
            "Requirement already satisfied: gitpython!=3.1.19,<4,>=3.0.7 in /usr/local/lib/python3.10/dist-packages (from streamlit) (3.1.43)\n",
            "Requirement already satisfied: pydeck<1,>=0.8.0b4 in /usr/local/lib/python3.10/dist-packages (from streamlit) (0.9.1)\n",
            "Requirement already satisfied: tornado<7,>=6.0.3 in /usr/local/lib/python3.10/dist-packages (from streamlit) (6.3.3)\n",
            "Requirement already satisfied: watchdog<5,>=2.1.5 in /usr/local/lib/python3.10/dist-packages (from streamlit) (4.0.2)\n",
            "Collecting PyMuPDFb==1.24.9 (from pyMuPDF)\n",
            "  Downloading PyMuPDFb-1.24.9-py3-none-manylinux2014_x86_64.manylinux_2_17_x86_64.whl.metadata (1.4 kB)\n",
            "Requirement already satisfied: configobj in /usr/local/lib/python3.10/dist-packages (from fitz) (5.0.8)\n",
            "Requirement already satisfied: configparser in /usr/local/lib/python3.10/dist-packages (from fitz) (7.1.0)\n",
            "Requirement already satisfied: httplib2 in /usr/local/lib/python3.10/dist-packages (from fitz) (0.22.0)\n",
            "Requirement already satisfied: nibabel in /usr/local/lib/python3.10/dist-packages (from fitz) (5.0.1)\n",
            "Requirement already satisfied: nipype in /usr/local/lib/python3.10/dist-packages (from fitz) (1.8.6)\n",
            "Requirement already satisfied: pyxnat in /usr/local/lib/python3.10/dist-packages (from fitz) (1.6.2)\n",
            "Requirement already satisfied: scipy in /usr/local/lib/python3.10/dist-packages (from fitz) (1.13.1)\n",
            "Requirement already satisfied: entrypoints in /usr/local/lib/python3.10/dist-packages (from altair<6,>=4.0->streamlit) (0.4)\n",
            "Requirement already satisfied: jinja2 in /usr/local/lib/python3.10/dist-packages (from altair<6,>=4.0->streamlit) (3.1.4)\n",
            "Requirement already satisfied: jsonschema>=3.0 in /usr/local/lib/python3.10/dist-packages (from altair<6,>=4.0->streamlit) (4.23.0)\n",
            "Requirement already satisfied: toolz in /usr/local/lib/python3.10/dist-packages (from altair<6,>=4.0->streamlit) (0.12.1)\n",
            "Requirement already satisfied: gitdb<5,>=4.0.1 in /usr/local/lib/python3.10/dist-packages (from gitpython!=3.1.19,<4,>=3.0.7->streamlit) (4.0.11)\n",
            "Requirement already satisfied: python-dateutil>=2.8.2 in /usr/local/lib/python3.10/dist-packages (from pandas<3,>=1.3.0->streamlit) (2.8.2)\n",
            "Requirement already satisfied: pytz>=2020.1 in /usr/local/lib/python3.10/dist-packages (from pandas<3,>=1.3.0->streamlit) (2024.1)\n",
            "Requirement already satisfied: tzdata>=2022.1 in /usr/local/lib/python3.10/dist-packages (from pandas<3,>=1.3.0->streamlit) (2024.1)\n",
            "Requirement already satisfied: charset-normalizer<4,>=2 in /usr/local/lib/python3.10/dist-packages (from requests<3,>=2.27->streamlit) (3.3.2)\n",
            "Requirement already satisfied: idna<4,>=2.5 in /usr/local/lib/python3.10/dist-packages (from requests<3,>=2.27->streamlit) (3.7)\n",
            "Requirement already satisfied: urllib3<3,>=1.21.1 in /usr/local/lib/python3.10/dist-packages (from requests<3,>=2.27->streamlit) (2.0.7)\n",
            "Requirement already satisfied: certifi>=2017.4.17 in /usr/local/lib/python3.10/dist-packages (from requests<3,>=2.27->streamlit) (2024.7.4)\n",
            "Requirement already satisfied: markdown-it-py>=2.2.0 in /usr/local/lib/python3.10/dist-packages (from rich<14,>=10.14.0->streamlit) (3.0.0)\n",
            "Requirement already satisfied: pygments<3.0.0,>=2.13.0 in /usr/local/lib/python3.10/dist-packages (from rich<14,>=10.14.0->streamlit) (2.16.1)\n",
            "Requirement already satisfied: six in /usr/local/lib/python3.10/dist-packages (from configobj->fitz) (1.16.0)\n",
            "Requirement already satisfied: pyparsing!=3.0.0,!=3.0.1,!=3.0.2,!=3.0.3,<4,>=2.4.2 in /usr/local/lib/python3.10/dist-packages (from httplib2->fitz) (3.1.2)\n",
            "Requirement already satisfied: setuptools in /usr/local/lib/python3.10/dist-packages (from nibabel->fitz) (71.0.4)\n",
            "Requirement already satisfied: networkx>=2.0 in /usr/local/lib/python3.10/dist-packages (from nipype->fitz) (3.3)\n",
            "Requirement already satisfied: prov>=1.5.2 in /usr/local/lib/python3.10/dist-packages (from nipype->fitz) (2.0.1)\n",
            "Requirement already satisfied: pydot>=1.2.3 in /usr/local/lib/python3.10/dist-packages (from nipype->fitz) (1.4.2)\n",
            "Requirement already satisfied: rdflib>=5.0.0 in /usr/local/lib/python3.10/dist-packages (from nipype->fitz) (6.3.2)\n",
            "Requirement already satisfied: simplejson>=3.8.0 in /usr/local/lib/python3.10/dist-packages (from nipype->fitz) (3.19.3)\n",
            "Requirement already satisfied: traits!=5.0,<6.4,>=4.6 in /usr/local/lib/python3.10/dist-packages (from nipype->fitz) (6.3.2)\n",
            "Requirement already satisfied: filelock>=3.0.0 in /usr/local/lib/python3.10/dist-packages (from nipype->fitz) (3.15.4)\n",
            "Requirement already satisfied: etelemetry>=0.2.0 in /usr/local/lib/python3.10/dist-packages (from nipype->fitz) (0.3.1)\n",
            "Requirement already satisfied: looseversion in /usr/local/lib/python3.10/dist-packages (from nipype->fitz) (1.3.0)\n",
            "Requirement already satisfied: lxml>=4.3 in /usr/local/lib/python3.10/dist-packages (from pyxnat->fitz) (4.9.4)\n",
            "Requirement already satisfied: pathlib>=1.0 in /usr/local/lib/python3.10/dist-packages (from pyxnat->fitz) (1.0.1)\n",
            "Requirement already satisfied: ci-info>=0.2 in /usr/local/lib/python3.10/dist-packages (from etelemetry>=0.2.0->nipype->fitz) (0.3.0)\n",
            "Requirement already satisfied: smmap<6,>=3.0.1 in /usr/local/lib/python3.10/dist-packages (from gitdb<5,>=4.0.1->gitpython!=3.1.19,<4,>=3.0.7->streamlit) (5.0.1)\n",
            "Requirement already satisfied: MarkupSafe>=2.0 in /usr/local/lib/python3.10/dist-packages (from jinja2->altair<6,>=4.0->streamlit) (2.1.5)\n",
            "Requirement already satisfied: attrs>=22.2.0 in /usr/local/lib/python3.10/dist-packages (from jsonschema>=3.0->altair<6,>=4.0->streamlit) (24.2.0)\n",
            "Requirement already satisfied: jsonschema-specifications>=2023.03.6 in /usr/local/lib/python3.10/dist-packages (from jsonschema>=3.0->altair<6,>=4.0->streamlit) (2023.12.1)\n",
            "Requirement already satisfied: referencing>=0.28.4 in /usr/local/lib/python3.10/dist-packages (from jsonschema>=3.0->altair<6,>=4.0->streamlit) (0.35.1)\n",
            "Requirement already satisfied: rpds-py>=0.7.1 in /usr/local/lib/python3.10/dist-packages (from jsonschema>=3.0->altair<6,>=4.0->streamlit) (0.20.0)\n",
            "Requirement already satisfied: mdurl~=0.1 in /usr/local/lib/python3.10/dist-packages (from markdown-it-py>=2.2.0->rich<14,>=10.14.0->streamlit) (0.1.2)\n",
            "Requirement already satisfied: isodate<0.7.0,>=0.6.0 in /usr/local/lib/python3.10/dist-packages (from rdflib>=5.0.0->nipype->fitz) (0.6.1)\n",
            "Downloading PyMuPDF-1.24.9-cp310-none-manylinux2014_x86_64.whl (3.5 MB)\n",
            "\u001b[2K   \u001b[90m━━━━━━━━━━━━━━━━━━━━━━━━━━━━━━━━━━━━━━━━\u001b[0m \u001b[32m3.5/3.5 MB\u001b[0m \u001b[31m37.7 MB/s\u001b[0m eta \u001b[36m0:00:00\u001b[0m\n",
            "\u001b[?25hDownloading PyMuPDFb-1.24.9-py3-none-manylinux2014_x86_64.manylinux_2_17_x86_64.whl (15.9 MB)\n",
            "\u001b[2K   \u001b[90m━━━━━━━━━━━━━━━━━━━━━━━━━━━━━━━━━━━━━━━━\u001b[0m \u001b[32m15.9/15.9 MB\u001b[0m \u001b[31m74.1 MB/s\u001b[0m eta \u001b[36m0:00:00\u001b[0m\n",
            "\u001b[?25hInstalling collected packages: PyMuPDFb, pyMuPDF\n",
            "Successfully installed PyMuPDFb-1.24.9 pyMuPDF-1.24.9\n"
          ]
        }
      ]
    },
    {
      "cell_type": "markdown",
      "source": [
        "Write the Streamlit App"
      ],
      "metadata": {
        "id": "gFENjrVvrsaS"
      }
    },
    {
      "cell_type": "code",
      "source": [
        "%%writefile app.py\n",
        "import streamlit as st\n",
        "import cv2\n",
        "import numpy as np\n",
        "import pytesseract\n",
        "from PIL import Image\n",
        "import io\n",
        "import fitz\n",
        "from pdf2image import convert_from_bytes\n",
        "import zipfile\n",
        "\n",
        "def ensure_gray(image):\n",
        "    \"\"\"\n",
        "    Ensures the input image is in grayscale format.\n",
        "    If the image is already grayscale, it's returned as-is.\n",
        "    If it's in color, it's converted to grayscale.\n",
        "    \"\"\"\n",
        "    if len(image.shape) == 2:\n",
        "        return image\n",
        "    return cv2.cvtColor(image, cv2.COLOR_BGR2GRAY)\n",
        "\n",
        "def deskew_hough(image):\n",
        "    \"\"\"\n",
        "    Applies Hough Line Transform to detect and correct skew in the image.\n",
        "    \"\"\"\n",
        "    gray = ensure_gray(image)\n",
        "    edges = cv2.Canny(gray, 50, 150, apertureSize=3)\n",
        "    lines = cv2.HoughLines(edges, 1, np.pi/180, 100)\n",
        "\n",
        "    if lines is not None:\n",
        "        angle = 0\n",
        "        for rho, theta in lines[0]:\n",
        "            if theta < np.pi/4 or theta > 3*np.pi/4:\n",
        "                angle = theta\n",
        "                break\n",
        "\n",
        "        if angle != 0:\n",
        "            (h, w) = image.shape[:2]\n",
        "            center = (w // 2, h // 2)\n",
        "            M = cv2.getRotationMatrix2D(center, angle * 180 / np.pi - 90, 1.0)\n",
        "            rotated = cv2.warpAffine(image, M, (w, h), flags=cv2.INTER_CUBIC, borderMode=cv2.BORDER_REPLICATE)\n",
        "            return rotated\n",
        "\n",
        "    return image\n",
        "\n",
        "def preprocess_image(image, options):\n",
        "    \"\"\"\n",
        "    Applies various preprocessing techniques to improve OCR accuracy:\n",
        "    1. Converts to grayscale\n",
        "    2. Applies thresholding\n",
        "    3. Deskews the image\n",
        "    4. Inverts colors\n",
        "    5. Resizes\n",
        "    6. Applies denoising\n",
        "    \"\"\"\n",
        "    gray = ensure_gray(image)\n",
        "\n",
        "    if options['apply_threshold']:\n",
        "        _, gray = cv2.threshold(gray, 0, 255, cv2.THRESH_BINARY + cv2.THRESH_OTSU)\n",
        "\n",
        "    if options['apply_deskew']:\n",
        "        gray = deskew_hough(gray)\n",
        "\n",
        "    if options['apply_denoise']:\n",
        "        gray = cv2.fastNlMeansDenoising(gray, None, 10, 7, 21)\n",
        "\n",
        "    if options['apply_contrast']:\n",
        "        gray = cv2.equalizeHist(gray)\n",
        "\n",
        "    return gray\n",
        "\n",
        "def extract_text(image, options):\n",
        "    \"\"\"\n",
        "    Extracts text from the preprocessed image using pytesseract OCR.\n",
        "    \"\"\"\n",
        "    config = f\"--oem 3 --psm {options['psm']} preserve_interword_spaces=1\"\n",
        "    return pytesseract.image_to_string(image, config=config, lang=\"eng\")\n",
        "\n",
        "def process_image(uploaded_file, options):\n",
        "    \"\"\"\n",
        "    Processes an uploaded image file:\n",
        "    1. Opens the image\n",
        "    2. Converts it to a numpy array\n",
        "    3. Applies preprocessing\n",
        "    4. Extracts text using OCR\n",
        "    \"\"\"\n",
        "    image = Image.open(uploaded_file)\n",
        "    image_np = np.array(image)\n",
        "    processed_image = preprocess_image(image_np, options)\n",
        "    return extract_text(processed_image, options)\n",
        "\n",
        "def process_pdf(uploaded_file, options):\n",
        "    \"\"\"\n",
        "    Processes an uploaded PDF file:\n",
        "    1. Reads the PDF\n",
        "    2. Converts each page to an image\n",
        "    3. Preprocesses each image\n",
        "    4. Extracts text from each preprocessed image\n",
        "    5. Combines text from all pages\n",
        "    \"\"\"\n",
        "    pdf_bytes = uploaded_file.read()\n",
        "    doc = fitz.open(stream=pdf_bytes, filetype=\"pdf\")\n",
        "    texts = []\n",
        "    for page in doc:\n",
        "        pix = page.get_pixmap()\n",
        "        img = Image.frombytes(\"RGB\", [pix.width, pix.height], pix.samples)\n",
        "        img_np = np.array(img)\n",
        "        processed_image = preprocess_image(img_np, options)\n",
        "        texts.append(extract_text(processed_image, options))\n",
        "    return \"\\n\\n\".join(texts)\n",
        "\n",
        "def main():\n",
        "    \"\"\"\n",
        "    Main function to run the Streamlit app:\n",
        "    1. Sets up the user interface\n",
        "    2. Handles file uploads\n",
        "    3. Processes uploaded files (images or PDFs)\n",
        "    4. Displays extracted text\n",
        "    5. Provides a download option for the extracted text\n",
        "    \"\"\"\n",
        "    st.title(\"Enhanced OCR Text Extraction from Images and PDFs\")\n",
        "    st.write(\"Upload multiple images or a PDF file to extract text.\")\n",
        "\n",
        "    uploaded_files = st.file_uploader(\"Choose files\", accept_multiple_files=True, type=[\"png\", \"jpg\", \"jpeg\", \"pdf\"])\n",
        "\n",
        "    st.sidebar.header(\"OCR Options\")\n",
        "    options = {\n",
        "        'apply_threshold': st.sidebar.checkbox(\"Apply Thresholding\", value=True),\n",
        "        'apply_deskew': st.sidebar.checkbox(\"Apply Deskewing\", value=True),\n",
        "        'apply_denoise': st.sidebar.checkbox(\"Apply Denoising\", value=True),\n",
        "        'apply_contrast': st.sidebar.checkbox(\"Apply Contrast Enhancement\", value=False),\n",
        "        'psm': st.sidebar.selectbox(\"Page Segmentation Mode\",\n",
        "                                    options=[3, 4, 6, 11, 12],\n",
        "                                    format_func=lambda x: f\"PSM {x}\",\n",
        "                                    help=\"3: Full auto, 4: Single column, 6: Single block of text, 11: Single text line, 12: Single word\")\n",
        "    }\n",
        "\n",
        "    if uploaded_files:\n",
        "        all_text = []\n",
        "        individual_texts = {}\n",
        "        for uploaded_file in uploaded_files:\n",
        "            try:\n",
        "                if uploaded_file.type == \"application/pdf\":\n",
        "                    text = process_pdf(uploaded_file, options)\n",
        "                else:\n",
        "                    text = process_image(uploaded_file, options)\n",
        "                all_text.append(f\"File: {uploaded_file.name}\\n\\n{text}\\n\\n{'='*50}\\n\")\n",
        "                individual_texts[uploaded_file.name] = text\n",
        "            except Exception as e:\n",
        "                st.error(f\"Error processing {uploaded_file.name}: {str(e)}\")\n",
        "\n",
        "        combined_text = \"\\n\".join(all_text)\n",
        "        st.text_area(\"Extracted Text\", value=combined_text, height=300)\n",
        "\n",
        "        # Create a download button for the combined extracted text\n",
        "        combined_text_io = io.BytesIO(combined_text.encode('utf-8'))\n",
        "        st.download_button(\n",
        "            label=\"Download Combined Extracted Text\",\n",
        "            data=combined_text_io,\n",
        "            file_name=\"combined_extracted_text.txt\",\n",
        "            mime=\"text/plain\"\n",
        "        )\n",
        "\n",
        "        # Create a download button for individual text files\n",
        "        if len(individual_texts) > 0:\n",
        "            zip_buffer = io.BytesIO()\n",
        "            with zipfile.ZipFile(zip_buffer, \"a\", zipfile.ZIP_DEFLATED, False) as zip_file:\n",
        "                for file_name, text in individual_texts.items():\n",
        "                    zip_file.writestr(f\"{file_name}_extracted.txt\", text)\n",
        "\n",
        "            st.download_button(\n",
        "                label=\"Download Individual Extracted Texts\",\n",
        "                data=zip_buffer.getvalue(),\n",
        "                file_name=\"individual_extracted_texts.zip\",\n",
        "                mime=\"application/zip\"\n",
        "            )\n",
        "\n",
        "if __name__ == \"__main__\":\n",
        "    main()"
      ],
      "metadata": {
        "colab": {
          "base_uri": "https://localhost:8080/"
        },
        "id": "9aNbViHBpV0i",
        "outputId": "fe8edb63-7592-4618-a2b6-15c76ee88b19"
      },
      "execution_count": null,
      "outputs": [
        {
          "output_type": "stream",
          "name": "stdout",
          "text": [
            "Overwriting app.py\n"
          ]
        }
      ]
    },
    {
      "cell_type": "code",
      "source": [
        "#To get the password to\n",
        "import urllib\n",
        "print(\"Password/Enpoint IP for localtunnel is:\",urllib.request.urlopen('https://ipv4.icanhazip.com').read().decode('utf8').strip(\"\\n\"))"
      ],
      "metadata": {
        "colab": {
          "base_uri": "https://localhost:8080/"
        },
        "id": "JwWK5YRBM6DX",
        "outputId": "d8c1433a-53c4-4bcc-9d21-642dcddabb4a"
      },
      "execution_count": null,
      "outputs": [
        {
          "output_type": "stream",
          "name": "stdout",
          "text": [
            "Password/Enpoint IP for localtunnel is: 34.125.254.51\n"
          ]
        }
      ]
    },
    {
      "cell_type": "code",
      "source": [
        "!streamlit run app.py &>/content/logs.txt &\n",
        "!npx localtunnel --port 8501 &\n",
        "\n",
        "import time\n",
        "from google.colab import files\n",
        "import IPython\n",
        "\n",
        "# Wait for Streamlit and localtunnel to start\n",
        "time.sleep(10)\n",
        "\n",
        "# Get the localtunnel URL\n",
        "localtunnel_url = !curl -s http://localhost:4040/api/tunnels | python -c \"import sys, json; print(json.load(sys.stdin)['tunnels'][0]['public_url'])\"\n",
        "\n",
        "print(f\"Your Streamlit app is running at: {localtunnel_url[0]}\")\n",
        "IPython.display.HTML(f'<a href=\"{localtunnel_url[0]}\" target=\"_blank\">Click here to open the Streamlit app</a>')"
      ],
      "metadata": {
        "id": "9rbngyeqqdvf"
      },
      "execution_count": null,
      "outputs": []
    }
  ]
}